{
 "cells": [
  {
   "cell_type": "code",
   "execution_count": null,
   "id": "ceb1e2a4-ec8a-4d6a-a475-9e8a7171b46e",
   "metadata": {},
   "outputs": [],
   "source": [
    "import pandas as pd\n",
    "import os\n",
    "import numpy as np\n",
    "import datetime\n",
    "\n",
    "class GTFSParser:\n",
    "    def __init__(self, root, bbox = None, day=\"monday\",  agency_keywords = [\"DB\", \"Bahn\", \"agilis\", \"alex\"], agency_keywords_exclude = [\"Bus\"]):\n",
    "        self.root = root\n",
    "        self.tables = {}\n",
    "        for tp in filter(lambda p : \".txt\" in  p, os.listdir(root)):\n",
    "            try:\n",
    "                self.tables[tp.split(\".txt\")[0]] = pd.read_csv(os.path.join(root, tp))\n",
    "            except:\n",
    "                reader = pd.read_csv(os.path.join(root, tp), chunksize=10000)  # Adjust the chunksize as per your memory capacity\n",
    "                dfs = []\n",
    "                # Iterate through each chunk and append it to the list\n",
    "                for chunk in reader:\n",
    "                    dfs.append(chunk)\n",
    "                self.tables[tp.split(\".txt\")[0]] = pd.concat(dfs)\n",
    "\n",
    "        self.day = day\n",
    "        self.FilterByDay()\n",
    "        self.agency_keywords = agency_keywords\n",
    "        self.agency_keywords_exclude = agency_keywords_exclude\n",
    "        if self.agency_keywords or self.agency_keywords_exclude:\n",
    "            self.FilterByRailwayAgency()\n",
    "\n",
    "        if bbox is not None:\n",
    "            bbox_lat_min, bbox_lat_max, bbox_lon_min, bbox_lon_max = bbox\n",
    "            self.FilterByBoundingBox(bbox_lat_min, bbox_lat_max, bbox_lon_min, bbox_lon_max)\n",
    "\n",
    "        self.tables[\"full_stop_info\"] = self.tables[\"stop_times\"].merge(self.tables[\"stops\"], left_on=\"stop_id\", right_on=\"stop_id\")\n",
    "        self.fullStopInfo = self.tables[\"stop_times\"].merge(self.tables[\"stops\"], left_on=\"stop_id\", right_on=\"stop_id\")\n",
    "\n",
    "    def GetTables(self):\n",
    "        return list(self.tables.keys())\n",
    "\n",
    "\n",
    "    def FilterByDay(self):\n",
    "        service = self.tables[\"calendar\"][self.tables[\"calendar\"][self.day] == 1][\"service_id\"].unique()\n",
    "        self.tables[\"trips\"] = self.tables[\"trips\"][self.tables[\"trips\"][\"service_id\"].isin(service)]\n",
    "\n",
    "    def FilterByRailwayAgency(self):\n",
    "        agency_filter_func = lambda a : any([kw in a for kw in self.agency_keywords]) and all([kw not in a for kw in self.agency_keywords_exclude])\n",
    "        self.tables[\"agency\"] = self.tables[\"agency\"][self.tables[\"agency\"][\"agency_name\"].transform(lambda a : agency_filter_func)]\n",
    "        self.tables[\"routes\"] = self.tables[\"routes\"][self.tables[\"routes\"][\"agency_id\"].isin(self.tables[\"agency\"][\"agency_id\"].unique())]\n",
    "        self.tables[\"trips\"] = self.tables[\"trips\"][self.tables[\"trips\"][\"route_id\"].isin(self.tables[\"routes\"][\"route_id\"].unique())]\n",
    "        self.tables[\"stop_times\"] = self.tables[\"stop_times\"][self.tables[\"stop_times\"][\"trip_id\"].isin(self.tables[\"trips\"][\"trip_id\"].unique())]\n",
    "        self.tables[\"stops\"] = self.tables[\"stops\"][self.tables[\"stops\"][\"stop_id\"].isin(self.tables[\"stop_times\"][\"stop_id\"].unique())]\n",
    "\n",
    "    def FilterByBoundingBox(self, bbox_lat_min, bbox_lat_max, bbox_lon_min, bbox_lon_max):\n",
    "        stops = self.tables[\"stops\"]\n",
    "        mask_stops = (bbox_lon_min <= stops[\"stop_lon\"]) & (stops[\"stop_lon\"] <= bbox_lon_max) & (\n",
    "                    bbox_lat_min <= stops[\"stop_lat\"]) & (stops[\"stop_lat\"] <= bbox_lat_max)\n",
    "\n",
    "        stop_times = self.tables[\"stop_times\"]\n",
    "        mask_stop_times = stop_times[\"stop_id\"].isin(stops[\"stop_id\"][mask_stops])\n",
    "\n",
    "        trips = self.tables[\"trips\"]\n",
    "        mask_trips = trips[\"trip_id\"].isin(stop_times[\"trip_id\"][mask_stop_times])\n",
    "\n",
    "\n",
    "        self.tables[\"stops\"] = stops[mask_stops]\n",
    "        self.tables[\"stop_times\"] = stop_times[mask_stop_times]\n",
    "        self.tables[\"trips\"] = trips[mask_trips]\n",
    "\n",
    "\n",
    "    def CoordFromStopName(self, stop_name):\n",
    "        coord = (self.tables[\"stops\"][self.tables[\"stops\"][\"stop_name\"] == stop_name][\"stop_lon\"].iloc[0],\n",
    "         self.tables[\"stops\"][self.tables[\"stops\"][\"stop_name\"] == stop_name][\"stop_lat\"].iloc[0])\n",
    "        return coord\n",
    "\n",
    "\n",
    "\n",
    "\n",
    "\n",
    "\n",
    "    #def GetRepresentativeTrip(self):\n",
    "\n",
    "\n",
    "\n",
    "\n",
    "class Trip:\n",
    "    def __init__(self, parser: GTFSParser, trip_id : str):\n",
    "        self.id = trip_id\n",
    "        self.parser = parser\n",
    "\n",
    "    def GetStopSequence(self):\n",
    "        mask = self.parser.tables[\"stop_times\"][\"trip_id\"] == self.id\n",
    "        stop_times = self.parser.tables[\"stop_times\"][mask]\n",
    "        filtered = self.parser.fullStopInfo[self.parser.fullStopInfo[\"trip_id\"] == self.id]\n",
    "        allStops = []\n",
    "        for stid in list(stop_times[\"stop_id\"]):\n",
    "            stop = Stop(self.parser, stid, self.id, filtered)\n",
    "            allStops.append(stop)\n",
    "\n",
    "        allStops.sort(key=lambda s : s.arrival_time)\n",
    "\n",
    "        return allStops\n",
    "\n",
    "\n",
    "\n",
    "\n",
    "\n",
    "\n",
    "class Stop:\n",
    "    def __init__(self, parser: GTFSParser, stop_id: str, trip_id : str, full_stop_info_filtered, format : str = None):\n",
    "        self.id = stop_id\n",
    "        self.trip_id = trip_id\n",
    "        self.parser = parser\n",
    "        self.arrival_time, self.departure_time = self.GetTimes(format, full_stop_info_filtered) if format is not None else self.GetTimes(full_stop_info_filtered=full_stop_info_filtered)\n",
    "\n",
    "\n",
    "    def GetTimes(self, format='%H:%M:%S', full_stop_info_filtered=None):\n",
    "        info = self.GetAllInfo(full_stop_info_filtered)\n",
    "        arrival_time_str = info[\"arrival_time\"]\n",
    "        arrival_time_str_split = arrival_time_str.split(\":\")\n",
    "        isArrNextDay = int(arrival_time_str_split[0]) >= 24\n",
    "        if isArrNextDay:\n",
    "            arrival_time_str = str(int(arrival_time_str_split[0]) % 24)\n",
    "            for s in [\":\" + a for  a in arrival_time_str_split[1:]]:\n",
    "                arrival_time_str += s\n",
    "\n",
    "        arrival_time = datetime.datetime.strptime(arrival_time_str, format)\n",
    "\n",
    "        if isArrNextDay:\n",
    "            arrival_time = datetime.datetime(year=1900, month=1, day=arrival_time.day + 1, hour=arrival_time.hour, minute=arrival_time.minute, second=arrival_time.second)\n",
    "\n",
    "        departure_time_str = info[\"departure_time\"]\n",
    "        departure_time_str_split = departure_time_str.split(\":\")\n",
    "        isDepNextDay = int(departure_time_str_split[0]) >= 24\n",
    "        if isDepNextDay:\n",
    "            departure_time_str = str(int(departure_time_str_split[0]) % 24)\n",
    "            print(departure_time_str_split)\n",
    "            for s in [\":\" + a for a in departure_time_str_split[1:]]:\n",
    "                departure_time_str += s\n",
    "\n",
    "\n",
    "        departure_time = datetime.datetime.strptime(departure_time_str, format)\n",
    "\n",
    "        if isDepNextDay:\n",
    "            departure_time = datetime.datetime(year=1900, month=1, day=departure_time.day + 1, hour=departure_time.hour, minute=departure_time.minute, second=departure_time.second)\n",
    "\n",
    "        if not isDepNextDay and isArrNextDay:\n",
    "            print(\"Warning! Time Format corrupt.\")\n",
    "\n",
    "\n",
    "\n",
    "        return arrival_time, departure_time\n",
    "\n",
    "    def GetAllInfo(self, full_stop_info_filtered=None):\n",
    "        full_stop_info_filtered = self.parser.fullStopInfo if full_stop_info_filtered is None else full_stop_info_filtered\n",
    "        mask = np.bitwise_and(full_stop_info_filtered[\"stop_id\"] == self.id,\n",
    "                              full_stop_info_filtered[\"trip_id\"] == self.trip_id)\n",
    "\n",
    "        filtered = full_stop_info_filtered[mask]\n",
    "        if len(filtered) > 1:\n",
    "            print(\"Warning: multiple stops with same key. Data cleaning suggested.\")\n",
    "        if len(filtered) == 0:\n",
    "            return None\n",
    "\n",
    "        return full_stop_info_filtered[mask].iloc[0]"
   ]
  },
  {
   "cell_type": "code",
   "execution_count": null,
   "id": "f7cabd25-9c51-449e-aef7-14c6f2c76321",
   "metadata": {},
   "outputs": [],
   "source": [
    "parser.tables['routes'], parser.tables['trips'], parser.tables['stops'], parser.tables['stop_times']"
   ]
  },
  {
   "cell_type": "code",
   "execution_count": null,
   "id": "ded65e34-4af0-4205-86d8-491c2a56d33c",
   "metadata": {},
   "outputs": [],
   "source": [
    "def convert_time(arrival_time_str, format='%H:%M:%S'):\n",
    "    arrival_time_str_split = arrival_time_str.split(\":\")\n",
    "    isArrNextDay = int(arrival_time_str_split[0]) >= 24\n",
    "    if isArrNextDay:\n",
    "        arrival_time_str = str(int(arrival_time_str_split[0]) % 24)\n",
    "        for s in [\":\" + a for  a in arrival_time_str_split[1:]]:\n",
    "            arrival_time_str += s\n",
    "\n",
    "    arrival_time = datetime.datetime.strptime(arrival_time_str, format)\n",
    "\n",
    "    if isArrNextDay:\n",
    "        arrival_time = datetime.datetime(year=1900, month=1, day=arrival_time.day + 1, hour=arrival_time.hour, minute=arrival_time.minute, second=arrival_time.second)\n",
    "\n",
    "    return arrival_time\n"
   ]
  },
  {
   "cell_type": "code",
   "execution_count": null,
   "id": "9bff3e07-d007-433f-ba01-d6af11820f0c",
   "metadata": {},
   "outputs": [],
   "source": [
    "DATAPATHG = r\"C:\\Users\\Martin Tosstorff\\Downloads\\latest(2)\"\n",
    "DATAPATHMVV = r\"C:\\Users\\Martin Tosstorff\\Downloads\\mvv_ohneShape_20241004095702(1)\"\n",
    "DPMVV2 = r\"C:\\Users\\Martin Tosstorff\\Downloads\\google_transit(1)\""
   ]
  },
  {
   "cell_type": "code",
   "execution_count": null,
   "id": "4c9d458b-cec5-4969-8774-775eeb572aa8",
   "metadata": {},
   "outputs": [],
   "source": [
    "parser = GTFSParser(DPMVV2,  agency_keywords = None, agency_keywords_exclude = None)\n",
    "testTripId = parser.tables[\"trips\"].iloc[0][\"trip_id\"]\n",
    "\n",
    "testTrip = Trip(parser, testTripId)\n",
    "stopSequence=testTrip.GetStopSequence()"
   ]
  },
  {
   "cell_type": "code",
   "execution_count": null,
   "id": "499cd373-2437-4270-89c5-f28de89df5f5",
   "metadata": {},
   "outputs": [],
   "source": [
    "UBAHNROUTEID = 402"
   ]
  },
  {
   "cell_type": "code",
   "execution_count": null,
   "id": "d1d77727-d9ad-4b54-9c29-e52a9a6287d7",
   "metadata": {},
   "outputs": [],
   "source": [
    "mask = parser.tables['routes'].route_type == UBAHNROUTEID\n",
    "route_ids = parser.tables['routes'][mask].route_id"
   ]
  },
  {
   "cell_type": "code",
   "execution_count": null,
   "id": "12d98ccd-8c80-4f1c-a23a-fc5b10f8c4f3",
   "metadata": {},
   "outputs": [],
   "source": [
    "parser.tables['stop_times']"
   ]
  },
  {
   "cell_type": "code",
   "execution_count": null,
   "id": "8e09e61e-bcca-495b-841c-9ace04b3ae4e",
   "metadata": {},
   "outputs": [],
   "source": [
    "parser.tables['trips'] = parser.tables['trips'][parser.tables['trips'].route_id.isin(route_ids)]\n",
    "trip_ids = parser.tables['trips'].trip_id"
   ]
  },
  {
   "cell_type": "code",
   "execution_count": null,
   "id": "9fe438a7-a367-4750-be7a-764c15eba6f9",
   "metadata": {},
   "outputs": [],
   "source": [
    "parser.tables['stop_times'] = parser.tables['stop_times'][parser.tables['stop_times'].trip_id.isin(trip_ids)]\n",
    "stop_ids = parser.tables['stop_times'].stop_id"
   ]
  },
  {
   "cell_type": "code",
   "execution_count": null,
   "id": "a5d1a42e-c680-406c-bad1-7192e06dfb68",
   "metadata": {},
   "outputs": [],
   "source": [
    "parser.tables['stops'] = parser.tables['stops'][parser.tables['stops'].stop_id.isin(stop_ids)]"
   ]
  },
  {
   "cell_type": "code",
   "execution_count": null,
   "id": "385371f0-9a8a-4732-a2d0-aedd5dab2da6",
   "metadata": {},
   "outputs": [],
   "source": [
    "intermediate = pd.merge(parser.fullStopInfo, parser.tables['trips'], left_on=\"trip_id\", right_on=\"trip_id\")"
   ]
  },
  {
   "cell_type": "code",
   "execution_count": null,
   "id": "fc87fe89-4c38-4ed5-ba17-a5cf57e5c9f3",
   "metadata": {},
   "outputs": [],
   "source": [
    "intermediate = pd.merge(intermediate, parser.tables['routes'], left_on=\"route_id\", right_on=\"route_id\")"
   ]
  },
  {
   "cell_type": "code",
   "execution_count": null,
   "id": "cc441fab-a50e-4935-85c4-547cd38923f9",
   "metadata": {},
   "outputs": [],
   "source": [
    "intermediate.arrival_time = intermediate.arrival_time.transform(convert_time)\n",
    "intermediate.departure_time = intermediate.departure_time.transform(convert_time)"
   ]
  },
  {
   "cell_type": "code",
   "execution_count": null,
   "id": "09ab3de8-1e80-4e04-810a-96f861944b29",
   "metadata": {},
   "outputs": [],
   "source": [
    "peak_start = datetime.datetime(year=1900, month=1, day=1, hour=13, minute=0, second=0)\n",
    "peak_end = datetime.datetime(year=1900, month=1, day=1, hour=14, minute=30, second=0)"
   ]
  },
  {
   "cell_type": "code",
   "execution_count": null,
   "id": "5b25c4b2-e612-4f86-a289-4f7389b5a58f",
   "metadata": {},
   "outputs": [],
   "source": [
    "intermediate = intermediate[(intermediate.departure_time > peak_start) & (intermediate.arrival_time < peak_end)] "
   ]
  },
  {
   "cell_type": "code",
   "execution_count": null,
   "id": "57f3bae1-473a-405d-a80e-242c36e6a8cb",
   "metadata": {},
   "outputs": [],
   "source": [
    "intermediate.arrival_time.max()"
   ]
  },
  {
   "cell_type": "code",
   "execution_count": null,
   "id": "78b7b60b-3035-4d1d-a2cc-05e0c59c005f",
   "metadata": {},
   "outputs": [],
   "source": [
    "for k, g in intermediate.groupby(['route_id', 'route_direction']):\n",
    "    trip_id = sorted([(kk, len(gg)) for kk, gg in g.groupby('trip_id')], key=lambda t : t[1])[-1][0]"
   ]
  },
  {
   "cell_type": "code",
   "execution_count": null,
   "id": "94f92fcb-b595-4a2f-a9af-384f257676d9",
   "metadata": {},
   "outputs": [],
   "source": [
    "import networkx as nx"
   ]
  },
  {
   "cell_type": "code",
   "execution_count": null,
   "id": "6e0ddc86-9c89-45d8-93e7-106948b77a45",
   "metadata": {},
   "outputs": [],
   "source": [
    "merged_data = intermediate"
   ]
  },
  {
   "cell_type": "code",
   "execution_count": null,
   "id": "39c305f9-c26f-43bc-9888-1e7e9693ae26",
   "metadata": {},
   "outputs": [],
   "source": [
    "merged_data.iloc[0]"
   ]
  },
  {
   "cell_type": "code",
   "execution_count": null,
   "id": "e5630985-4414-4625-9d48-7670d3389570",
   "metadata": {},
   "outputs": [],
   "source": [
    "parser.tables['stop_times']"
   ]
  },
  {
   "cell_type": "code",
   "execution_count": null,
   "id": "be5bc14f-111e-4d1f-8e30-f9e11becffc3",
   "metadata": {},
   "outputs": [],
   "source": [
    "import matplotlib.pyplot as plt"
   ]
  },
  {
   "cell_type": "code",
   "execution_count": null,
   "id": "ddce6f02-bb39-487f-b1dd-7e427c3e86ea",
   "metadata": {},
   "outputs": [],
   "source": [
    "parser.tables['routes']"
   ]
  },
  {
   "cell_type": "code",
   "execution_count": null,
   "id": "4d9fa189-76cd-4f89-8e7a-f3ac89d6c158",
   "metadata": {},
   "outputs": [],
   "source": [
    "fig, ax = plt.subplots(figsize=(15,15))\n",
    "annotated = set()\n",
    "for idx, (k,g) in enumerate(intermediate.groupby('route_id')):\n",
    "    #if k.split('-')[-1] == str(13):\n",
    "    #    continue\n",
    "    if 'U7' in k:\n",
    "        continue\n",
    "    \n",
    "    color = parser.tables['routes'][parser.tables['routes'].route_id == k].route_color.iloc[0]\n",
    "    ax.scatter(g['stop_lon'], g['stop_lat'], label=k, color='#' + color)    \n",
    "    \n",
    "    for i, txt in enumerate(g.stop_name):\n",
    "        #if txt in annotated:\n",
    "        #    continue\n",
    "        #annotated.add(txt)\n",
    "        ax.annotate(txt, (g['stop_lon'].iloc[i], g['stop_lat'].iloc[i]))\n",
    "\n",
    "plt.legend()"
   ]
  },
  {
   "cell_type": "code",
   "execution_count": null,
   "id": "89a9cf8c-79a4-480a-83ef-b0d92e2f421e",
   "metadata": {},
   "outputs": [],
   "source": [
    "giesing"
   ]
  },
  {
   "cell_type": "code",
   "execution_count": null,
   "id": "3973981f-0c3c-44d7-a5cc-d0d953ff3830",
   "metadata": {},
   "outputs": [],
   "source": [
    "graph = nx.Graph()"
   ]
  },
  {
   "cell_type": "code",
   "execution_count": null,
   "id": "bee0fe05-2400-47d0-8064-b28a07a79143",
   "metadata": {},
   "outputs": [],
   "source": [
    "hochbruck = 'Garching-Hochbrück'\n",
    "garching = 'Garching'\n",
    "#Create graph\n",
    "graph = nx.Graph()\n",
    "#Add node for station 'Garching-Hochbrück'\n",
    "graph.add_node(hochbruck)\n",
    "#Add edge between stations 'Garching' and 'Garching-Hochbrück'\n",
    "graph.add_edge(garching, hochbruck)"
   ]
  },
  {
   "cell_type": "code",
   "execution_count": null,
   "id": "c5cbec13-1281-4d4a-9f81-37dc803f1279",
   "metadata": {},
   "outputs": [],
   "source": [
    "graph.add_edge('Giesing Bahnhof', 'Garching-Hochbrück')"
   ]
  },
  {
   "cell_type": "code",
   "execution_count": null,
   "id": "fbfcfd59-5e7c-465c-96bb-f5b7f7c9c47c",
   "metadata": {},
   "outputs": [],
   "source": [
    "fig, ax = plt.subplots(figsize=(15,15))\n",
    "\n",
    "for k,g in intermediate.groupby('trip_id'):\n",
    "    stop_location_sequence = g.sort_values('arrival_time')[['stop_lon', 'stop_lat']]\n",
    "    for si in range(len(stop_location_sequence) - 1):\n",
    "        ax.plot([stop_location_sequence.iloc[si]['stop_lon'], stop_location_sequence.iloc[si+1]['stop_lon']], [stop_location_sequence.iloc[si]['stop_lat'], stop_location_sequence.iloc[si+1]['stop_lat']], color='#000000')\n",
    "\n",
    "for idx, (k,g) in enumerate(intermediate.groupby('route_id')):\n",
    "    if k.split('-')[-1] == str(13):\n",
    "        continue\n",
    "    if 'U7' in k:\n",
    "        continue\n",
    "    \n",
    "    color = parser.tables['routes'][parser.tables['routes'].route_id == k].route_color.iloc[0]\n",
    "    ax.scatter(g['stop_lon'], g['stop_lat'], label=k, color='#' + color)    \n",
    "\n",
    "    \n"
   ]
  },
  {
   "cell_type": "code",
   "execution_count": null,
   "id": "7e570052-b60b-4c39-823b-79141899ac18",
   "metadata": {},
   "outputs": [],
   "source": [
    "intermediate;"
   ]
  },
  {
   "cell_type": "code",
   "execution_count": null,
   "id": "e812e32a-96d4-41df-8e92-89f1596d199b",
   "metadata": {},
   "outputs": [],
   "source": [
    "intermediate.stop_name[intermediate.stop_name.transform(lambda sn : 'Gar' in sn)]"
   ]
  },
  {
   "cell_type": "code",
   "execution_count": null,
   "id": "6dd7dc8b-7b0c-4a3e-a3ba-8f394e16977f",
   "metadata": {},
   "outputs": [],
   "source": [
    "U6 = '1-U6-G-014-1'\n",
    "u6_df = intermediate[intermediate.route_id == U6]\n",
    "trip_groups = list(u6_df.groupby(['trip_id']))\n",
    "representative_trip_id, representative_rows  = sorted(trip_groups, key = lambda kg : len(kg[1]))[-1]\n",
    "stop_name_sequence = representative_rows.sort_values('arrival_time')['stop_name']\n",
    "stop_name_sequence"
   ]
  },
  {
   "cell_type": "code",
   "execution_count": null,
   "id": "7802a292-e33b-48a3-b13f-18f926367092",
   "metadata": {},
   "outputs": [],
   "source": [
    "sorted(list(u6_df.groupby('stop_name')), key=lambda kg: stop_name_sequence.index(kg[0]))"
   ]
  },
  {
   "cell_type": "code",
   "execution_count": null,
   "id": "3694ce61-83ce-4ccc-867c-b6591118be1e",
   "metadata": {},
   "outputs": [],
   "source": [
    "u6_df = u6_df[u6_df.stop_name.isin(stop_name_sequence)]\n",
    "u6_df.stop_name"
   ]
  },
  {
   "cell_type": "code",
   "execution_count": null,
   "id": "01cc481f-52a1-4e79-8636-bcbfd1e80338",
   "metadata": {},
   "outputs": [],
   "source": [
    "stop_name_sequence"
   ]
  },
  {
   "cell_type": "code",
   "execution_count": null,
   "id": "d1d47c08-1f80-439c-8485-a769b8546bad",
   "metadata": {},
   "outputs": [],
   "source": [
    "stop_name_sequence"
   ]
  },
  {
   "cell_type": "code",
   "execution_count": null,
   "id": "46398f4b-5fb9-4354-a35e-380ac061098e",
   "metadata": {},
   "outputs": [],
   "source": [
    "u6_df"
   ]
  },
  {
   "cell_type": "code",
   "execution_count": null,
   "id": "5fae5f3a-57f5-49f6-8653-dba002f7d5b9",
   "metadata": {},
   "outputs": [],
   "source": [
    "fig, ax = plt.subplots(figsize=(20,20))\n",
    "all_stop_name = []\n",
    "all_event_times = []\n",
    "for k, g in sorted(list(u6_df.groupby('stop_name')), key=lambda kg : list(stop_name_sequence).index(kg[0])):\n",
    "    print(k)\n",
    "    #if k not in stop_name_sequence:\n",
    "    #    continue\n",
    "    all_stop_name += [k[0]] * len(g)\n",
    "    all_event_times += list((g.arrival_time - peak_start).transform(lambda d : d.seconds))\n",
    "\n",
    "ax.scatter(all_stop_name, all_event_times)\n",
    "\n",
    "all_stop_name = []\n",
    "all_event_times = []\n",
    "for k, g in sorted(list(u6_df.groupby('stop_name')), key=lambda kg : list(stop_name_sequence).index(kg[0])):\n",
    "    print(k)\n",
    "    #if k not in stop_name_sequence:\n",
    "    #    continue\n",
    "    all_stop_name += [k[0]] * len(g)\n",
    "    all_event_times += list((g.departure_time - peak_start).transform(lambda d : d.seconds + 15))\n",
    "\n",
    "ax.scatter(all_stop_name, all_event_times)"
   ]
  },
  {
   "cell_type": "code",
   "execution_count": null,
   "id": "f6b183fa-40e4-4b23-915b-2f64df0aa796",
   "metadata": {},
   "outputs": [],
   "source": [
    "list(stop_name_sequence).index('Garch.,Forschungsz.')"
   ]
  },
  {
   "cell_type": "code",
   "execution_count": null,
   "id": "677b2cd3-ae66-44c2-8de4-834aafa04ef4",
   "metadata": {},
   "outputs": [],
   "source": [
    "g.sort_values(by='stop_name', key=lambda sns : (sns.transform(lambda sn : list(stop_name_sequence).index(sn))))"
   ]
  },
  {
   "cell_type": "code",
   "execution_count": null,
   "id": "5296ee98-b4f9-4f63-8266-13cfb0faf8e0",
   "metadata": {},
   "outputs": [],
   "source": [
    "g.arrival_time.transform(lambda at : (at - peak_start).seconds).iloc[:-1]"
   ]
  },
  {
   "cell_type": "code",
   "execution_count": null,
   "id": "4f27f5f0-f982-44c4-aa79-11318272ba0d",
   "metadata": {},
   "outputs": [],
   "source": [
    "g.arrival_time.transform(lambda at : (at - peak_start).seconds).iloc[1:].values - g.arrival_time.transform(lambda at : (at - peak_start).seconds).iloc[:-1].values"
   ]
  },
  {
   "cell_type": "code",
   "execution_count": null,
   "id": "52107632-6bc6-4a80-957f-eb304ef489a8",
   "metadata": {},
   "outputs": [],
   "source": [
    "all_stop_name;"
   ]
  },
  {
   "cell_type": "code",
   "execution_count": null,
   "id": "c4c5a284-4cdc-4118-be39-3abd2d63ec59",
   "metadata": {},
   "outputs": [],
   "source": [
    "line_graph = nx.Graph()\n",
    "pos = {}\n",
    "for ki, (k, g) in enumerate(u6_df.groupby(['trip_id'])):\n",
    "    all_stop_name = []\n",
    "    all_event_times = []\n",
    "    \n",
    "    row_iter = g.sort_values(by='arrival_time').iterrows()\n",
    "    last_stop=None\n",
    "    for ri, row in row_iter:\n",
    "        #all_stop_name.append(list(stop_name_sequence).index(row.stop_name))\n",
    "        #all_stop_name.append(list(stop_name_sequence).index(row.stop_name))\n",
    "        all_stop_name.append(list(stop_name_sequence).index(row.stop_name))\n",
    "        all_stop_name.append(list(stop_name_sequence).index(row.stop_name))\n",
    "        arrival = (row.arrival_time - peak_start).seconds\n",
    "        departure = (row.departure_time - peak_start).seconds\n",
    "        if last_stop:\n",
    "            line_graph.add_edge((row.trip_id, last_stop, 'd'), (row.trip_id, row.stop_name, 'a'))\n",
    "        line_graph.add_edge((row.trip_id, row.stop_name, 'a'), (row.trip_id, row.stop_name, 'd'))\n",
    "        pos[(row.trip_id, row.stop_name, 'a')] = (list(stop_name_sequence).index(row.stop_name), arrival)\n",
    "        pos[(row.trip_id, row.stop_name, 'd')] = (list(stop_name_sequence).index(row.stop_name), departure)\n",
    "        last_stop = row.stop_name"
   ]
  },
  {
   "cell_type": "code",
   "execution_count": null,
   "id": "5cebd644-fd03-4d7d-8021-f8f86dc57ce6",
   "metadata": {},
   "outputs": [],
   "source": []
  },
  {
   "cell_type": "code",
   "execution_count": null,
   "id": "7aef2a6b-4141-4053-b473-e0a22c6389bf",
   "metadata": {},
   "outputs": [],
   "source": [
    "fig, ax = plt.subplots()\n",
    "nx.draw(line_graph, pos, node_size=1)\n",
    "ax = plt.gca()  # Get current axis\n",
    "ax.set_axis_on()  # Turn the axis back on\n",
    "ax.tick_params(left=True, bottom=True, labelleft=True, labelbottom=True)  # Ensure ticks are displayed\n",
    "ax.set_ylabel('Time [s]')\n",
    "plt.xticks(list(range(len(stop_name_sequence))), stop_name_sequence, rotation=90)\n",
    "plt.show()"
   ]
  },
  {
   "cell_type": "code",
   "execution_count": null,
   "id": "0a518b8a-1438-4ba9-94d8-37be3d61caf3",
   "metadata": {},
   "outputs": [],
   "source": [
    "intermediate[intermediate.stop_name == 'Sendlinger Tor']"
   ]
  },
  {
   "cell_type": "code",
   "execution_count": null,
   "id": "0cbf08e9-b5b3-4de4-b41d-f3d3ff76bffc",
   "metadata": {},
   "outputs": [],
   "source": [
    "multi_line_graph = nx.DiGraph()\n",
    "pos = {}\n",
    "for ki, (k, g) in enumerate(intermediate.groupby(['trip_id'])):\n",
    "    all_stop_name = []\n",
    "    all_event_times = []\n",
    "    \n",
    "    row_iter = g.sort_values(by='arrival_time').iterrows()\n",
    "    last_stop=None\n",
    "    for ri, row in row_iter:\n",
    "        #all_stop_name.append(list(stop_name_sequence).index(row.stop_name))\n",
    "        #all_stop_name.append(list(stop_name_sequence).index(row.stop_name))\n",
    "        #all_stop_name.append(list(stop_name_sequence).index(row.stop_name))\n",
    "        #all_stop_name.append(list(stop_name_sequence).index(row.stop_name))\n",
    "        arrival = (row.arrival_time - peak_start).seconds\n",
    "        departure = (row.departure_time - peak_start).seconds\n",
    "        if last_stop:\n",
    "            multi_line_graph.add_edge((row.trip_id, last_stop, 'd'), (row.trip_id, row.stop_name, 'a'))\n",
    "        multi_line_graph.add_edge((row.trip_id, row.stop_name, 'a'), (row.trip_id, row.stop_name, 'd'))\n",
    "        #pos[(row.trip_id, row.stop_name, 'a')] = (list(stop_name_sequence).index(row.stop_name), arrival)\n",
    "        #pos[(row.trip_id, row.stop_name, 'd')] = (list(stop_name_sequence).index(row.stop_name), departure)\n",
    "        last_stop = row.stop_name\n",
    "\n",
    "for ki, (k, g) in enumerate(intermediate.groupby(['stop_name'])):\n",
    "    all_stop_name = []\n",
    "    all_event_times = []\n",
    "    \n",
    "    row_iter = g.sort_values(by='arrival_time').iterrows()\n",
    "    last_trip=None\n",
    "    for ri, row in row_iter:\n",
    "        #stop_name.append(list(stop_name_sequence).index(row.stop_name))\n",
    "        arrival = (row.arrival_time - peak_start).seconds\n",
    "        departure = (row.departure_time - peak_start).seconds\n",
    "        if last_trip:\n",
    "            multi_line_graph.add_edge((last_trip, row.stop_name, 'a'), (row.trip_id, row.stop_name, 'd'))\n",
    "        last_trip = row.trip_id"
   ]
  },
  {
   "cell_type": "code",
   "execution_count": null,
   "id": "453e6283-56bf-4336-8652-52fefae62c76",
   "metadata": {},
   "outputs": [],
   "source": [
    "parser.tables['routes']"
   ]
  },
  {
   "cell_type": "code",
   "execution_count": null,
   "id": "97a7e3d9-7f4b-410f-adaa-682d63b88d66",
   "metadata": {},
   "outputs": [],
   "source": [
    "giesing = intermediate.stop_name[intermediate.stop_name.transform(lambda sn : 'Giesing' in  sn)].iloc[0]\n",
    "hochbruck = intermediate.stop_name[intermediate.stop_name.transform(lambda sn : 'Hochbrück' in  sn)].iloc[0]\n",
    "giesing, hochbruck"
   ]
  },
  {
   "cell_type": "code",
   "execution_count": null,
   "id": "47efc06e-e765-4ec6-b749-807598dee55a",
   "metadata": {},
   "outputs": [],
   "source": [
    "start_trip = intermediate[intermediate.stop_name == giesing].sort_values('arrival_time').trip_id.iloc[0]"
   ]
  },
  {
   "cell_type": "code",
   "execution_count": null,
   "id": "0bc6dca3-288e-49e3-a204-0d79825c4e65",
   "metadata": {},
   "outputs": [],
   "source": [
    "target_trips = intermediate[intermediate.stop_name == hochbruck].trip_id.tolist()\n",
    "target_trips"
   ]
  },
  {
   "cell_type": "code",
   "execution_count": null,
   "id": "f6cbe8ae-34d7-43db-b39f-764a8341e851",
   "metadata": {},
   "outputs": [],
   "source": [
    "(start_trip, giesing, 'd'),  (target_trips[0], hochbruck, 'a')"
   ]
  },
  {
   "cell_type": "code",
   "execution_count": null,
   "id": "d4257cd3-e07b-4fc4-a303-de6a3f24a0cc",
   "metadata": {},
   "outputs": [],
   "source": [
    "target_trips"
   ]
  },
  {
   "cell_type": "code",
   "execution_count": null,
   "id": "28cc273d-859f-4ab9-ba5f-ee8c3b498c38",
   "metadata": {},
   "outputs": [],
   "source": [
    "list(filter(lambda e : 'Sendlinger' in e[0][1], multi_line_graph.edges))"
   ]
  },
  {
   "cell_type": "code",
   "execution_count": null,
   "id": "d8ba6a71-278c-431b-8366-8c520db360a7",
   "metadata": {},
   "outputs": [],
   "source": [
    "for target_trip in target_trips:\n",
    "    try:\n",
    "        nx.shortest_path(multi_line_graph, (start_trip, giesing, 'd'),  (target_trip, hochbruck, 'a'))\n",
    "        print(target_trip)\n",
    "    except nx.NetworkXNoPath:\n",
    "        print()"
   ]
  },
  {
   "cell_type": "code",
   "execution_count": null,
   "id": "6735ea5a-ed75-41f2-8b50-c4a7d3b85d56",
   "metadata": {},
   "outputs": [],
   "source": [
    "fig, ax = plt.subplots(figsize=(20,20))\n",
    "all_stop_name = []\n",
    "all_event_times = []\n",
    "for k, g in sorted(list(u6_df.groupby('stop_name')), key=lambda kg: list(stop_name_sequence).index(kg[0])):\n",
    "    all_stop_name += [k[0]] * 2 * len(g)\n",
    "    all_event_times += list((g.departure_time - peak_start).transform(lambda d : d.seconds))\n",
    "\n",
    "ax.scatter(all_stop_name, all_event_times)"
   ]
  },
  {
   "cell_type": "code",
   "execution_count": null,
   "id": "690d9fd7-1117-44c8-88a8-be130d9fb064",
   "metadata": {},
   "outputs": [],
   "source": [
    "intermediate[intermediate.route_id.transform(lambda r : 'U6' in r)].groupby()"
   ]
  },
  {
   "cell_type": "code",
   "execution_count": null,
   "id": "041ce44e-ebe6-42bf-b2ea-679e09933059",
   "metadata": {},
   "outputs": [],
   "source": [
    "plt.plot(['b', 'a'], [1,2])\n",
    "plt.plot(['a', 'b'], [1,2])"
   ]
  },
  {
   "cell_type": "code",
   "execution_count": null,
   "id": "ea1c9bb1-6511-4e6e-8184-24b444fa29c9",
   "metadata": {},
   "outputs": [],
   "source": [
    "stop_location_sequence.iloc[si]['stop_lon']"
   ]
  },
  {
   "cell_type": "code",
   "execution_count": null,
   "id": "b0a0893d-cfc8-429f-a931-085b222195b0",
   "metadata": {},
   "outputs": [],
   "source": [
    "for k,g in intermediate.groupby('trip_id'):\n",
    "    stop_location_sequence = g.sort_values('arrival_time')[['stop_lon', 'stop_lat']]\n",
    "    for si in range(len(stop_location_sequence) - 1):\n",
    "        ax.plot([stop_location_sequence.iloc[si]['stop_lon'], stop_location_sequence.iloc[si]['stop_lat']], [stop_location_sequence.iloc[si+1]['stop_lon'], stop_location_sequence.iloc[si+1]['stop_lat']])"
   ]
  },
  {
   "cell_type": "code",
   "execution_count": null,
   "id": "b7a5048d-7182-4e66-809a-a703489c560a",
   "metadata": {},
   "outputs": [],
   "source": [
    "plt.show()"
   ]
  },
  {
   "cell_type": "code",
   "execution_count": null,
   "id": "215b6f65-7aff-448b-9e1c-87a208baf4ee",
   "metadata": {},
   "outputs": [],
   "source": [
    "representative_stops = parser.tables['stops'].groupby('stop_name').first()\n",
    "representative_stops;"
   ]
  },
  {
   "cell_type": "code",
   "execution_count": null,
   "id": "5c04fda5-902a-4b84-bc13-c054ff3e077a",
   "metadata": {},
   "outputs": [],
   "source": [
    "parser.tables['trips']"
   ]
  },
  {
   "cell_type": "code",
   "execution_count": null,
   "id": "85c87ef1-a334-42ac-81a7-925569957758",
   "metadata": {},
   "outputs": [],
   "source": [
    "parser.tables['stop_times'].trip_id"
   ]
  },
  {
   "cell_type": "code",
   "execution_count": null,
   "id": "81101df1-41df-428b-b903-bafd5833c09c",
   "metadata": {},
   "outputs": [],
   "source": [
    "parser.tables['stop_times'].arrival_time = parser.tables['stop_times'].arrival_time.apply(convert_time)"
   ]
  },
  {
   "cell_type": "code",
   "execution_count": null,
   "id": "09b967ef-842d-4f68-8aa3-da2a92209e17",
   "metadata": {},
   "outputs": [],
   "source": [
    "parser.tables['stop_times'].departure_time = parser.tables['stop_times'].departure_time.apply(convert_time)"
   ]
  },
  {
   "cell_type": "code",
   "execution_count": null,
   "id": "bc17f548-c9b7-47db-8a9d-adb7cc4b18ce",
   "metadata": {},
   "outputs": [],
   "source": [
    "parser.tables['stop_times'].sort_values(\"arrival_time\")"
   ]
  },
  {
   "cell_type": "code",
   "execution_count": null,
   "id": "4019b3ee-fc72-438c-bc35-1be8afe2a407",
   "metadata": {},
   "outputs": [],
   "source": [
    "groups = parser.tables['stop_times'].groupby('trip_id')\n",
    "station_graph = nx.Graph()\n",
    "for k, g in groups:\n",
    "    print(g)"
   ]
  },
  {
   "cell_type": "code",
   "execution_count": null,
   "id": "76570f81-ac1c-4212-8c1a-e10772c73c6b",
   "metadata": {},
   "outputs": [],
   "source": [
    "k"
   ]
  },
  {
   "cell_type": "code",
   "execution_count": null,
   "id": "1914580d-ee5e-4883-91c0-377274dfe791",
   "metadata": {},
   "outputs": [],
   "source": [
    "import matplotlib.pyplot as plt\n",
    "import networkx as nx\n",
    "import numpy as np\n",
    "\n",
    "# Create a graph using NetworkX\n",
    "G = nx.erdos_renyi_graph(n=10, p=0.3, seed=42)  # 10 nodes with a 30% probability of edge creation\n",
    "\n",
    "# Set positions for nodes (using spring layout for better visualization)\n",
    "pos = nx.spring_layout(G)\n",
    "\n",
    "# Draw the network\n",
    "plt.figure(figsize=(8, 6))\n",
    "nx.draw(G, pos, with_labels=True, node_color='lightblue', edge_color='gray', node_size=500, font_size=10)\n",
    "\n",
    "# Re-enable axis visibility after drawing\n",
    "ax = plt.gca()  # Get current axis\n",
    "ax.set_axis_on()  # Turn the axis back on\n",
    "ax.tick_params(left=True, bottom=True, labelleft=True, labelbottom=True)  # Ensure ticks are displayed\n",
    "\n",
    "# Determine the range of x-coordinates from node positions\n",
    "x_coords = [pos[node][0] for node in G.nodes]\n",
    "x_min, x_max = min(x_coords), max(x_coords)\n",
    "\n",
    "# Generate x-ticks at regular intervals across the x-range\n",
    "x_ticks = np.linspace(x_min, x_max, num=5)  # Generate 5 evenly spaced x-ticks\n",
    "\n",
    "# Set x-ticks explicitly and adjust axis limits\n",
    "plt.xticks(x_ticks, rotation=45)\n",
    "plt.xlim(x_min - 0.1, x_max + 0.1)  # Extend limits slightly to ensure ticks are visible\n",
    "plt.xlabel(\"X Coordinate Positions of Nodes\")\n",
    "plt.title(\"Network Graph with X Ticks on Node Positions\")\n",
    "\n",
    "plt.show()\n"
   ]
  },
  {
   "cell_type": "code",
   "execution_count": null,
   "id": "7b585abc-015b-4ea4-a691-5f5c5de877de",
   "metadata": {},
   "outputs": [],
   "source": [
    "import pandas as pd\n",
    "\n",
    "data = {'Name': ['John', 'Alice', 'Bob'],\n",
    "        'Age': [25, 30, 35],\n",
    "        'City': ['New York', 'London', 'Paris']}\n",
    "\n",
    "df = pd.DataFrame(data)\n",
    "df"
   ]
  },
  {
   "cell_type": "code",
   "execution_count": null,
   "id": "9796ec71-e9f9-4214-8ed1-b51a6ec63cf7",
   "metadata": {},
   "outputs": [],
   "source": [
    "l = [[1, 4, 3], [1, 3, 4], [2, 2, 3], [1, 1, 2]]\n",
    "df = pd.DataFrame(l, columns=[\"a\", \"b\", \"c\"])\n",
    "df"
   ]
  },
  {
   "cell_type": "code",
   "execution_count": null,
   "id": "b872e591-3786-47fd-b803-28918cfb61c0",
   "metadata": {},
   "outputs": [],
   "source": [
    "df[df.b < 3]"
   ]
  },
  {
   "cell_type": "code",
   "execution_count": null,
   "id": "db31422d-d98d-4f50-b348-f35af4f284f9",
   "metadata": {},
   "outputs": [],
   "source": [
    "for k,g in df.groupby(by=[\"b\"]):\n",
    "    print(k)\n",
    "    print(g)"
   ]
  },
  {
   "cell_type": "code",
   "execution_count": null,
   "id": "b178edf6-6f69-47b6-ad7a-1187ddceb6ee",
   "metadata": {},
   "outputs": [],
   "source": [
    "df.sort_values('b')"
   ]
  },
  {
   "cell_type": "code",
   "execution_count": 2,
   "id": "f42b7ece-e42c-4b7d-a005-e89fde14783d",
   "metadata": {},
   "outputs": [],
   "source": [
    "import matplotlib.pyplot as plt\n",
    "import numpy as np"
   ]
  },
  {
   "cell_type": "code",
   "execution_count": 6,
   "id": "799fe49d-613b-457a-9dd6-95ecbf0e7a9e",
   "metadata": {},
   "outputs": [
    {
     "data": {
      "text/plain": [
       "(array([ 0.,  0.,  0.,  0.,  0.,  0.,  0.,  0.,  0.,  0.,  0.,  0.,  0.,\n",
       "         0.,  0.,  0.,  0.,  0.,  0.,  0.,  1.,  0.,  0.,  0.,  2.,  2.,\n",
       "         3.,  5.,  5.,  7.,  6.,  5.,  4.,  7., 18., 12., 13., 26., 23.,\n",
       "        20., 26., 24., 21., 34., 31., 37., 31., 36., 47., 38., 41., 51.,\n",
       "        36., 36., 40., 41., 37., 34., 25., 18., 23., 23., 21., 15.,  8.,\n",
       "        12.,  8.,  9.,  8.,  5.,  4.,  3.,  6.,  4.,  1.,  1.,  2.,  0.,\n",
       "         1.,  0.,  1.,  1.,  1.,  0.,  0.,  0.,  0.,  0.,  0.,  0.,  0.,\n",
       "         0.,  0.,  0.,  0.,  0.,  0.,  0.,  0.]),\n",
       " array([-5.00000000e+00, -4.90000000e+00, -4.80000000e+00, -4.70000000e+00,\n",
       "        -4.60000000e+00, -4.50000000e+00, -4.40000000e+00, -4.30000000e+00,\n",
       "        -4.20000000e+00, -4.10000000e+00, -4.00000000e+00, -3.90000000e+00,\n",
       "        -3.80000000e+00, -3.70000000e+00, -3.60000000e+00, -3.50000000e+00,\n",
       "        -3.40000000e+00, -3.30000000e+00, -3.20000000e+00, -3.10000000e+00,\n",
       "        -3.00000000e+00, -2.90000000e+00, -2.80000000e+00, -2.70000000e+00,\n",
       "        -2.60000000e+00, -2.50000000e+00, -2.40000000e+00, -2.30000000e+00,\n",
       "        -2.20000000e+00, -2.10000000e+00, -2.00000000e+00, -1.90000000e+00,\n",
       "        -1.80000000e+00, -1.70000000e+00, -1.60000000e+00, -1.50000000e+00,\n",
       "        -1.40000000e+00, -1.30000000e+00, -1.20000000e+00, -1.10000000e+00,\n",
       "        -1.00000000e+00, -9.00000000e-01, -8.00000000e-01, -7.00000000e-01,\n",
       "        -6.00000000e-01, -5.00000000e-01, -4.00000000e-01, -3.00000000e-01,\n",
       "        -2.00000000e-01, -1.00000000e-01, -1.77635684e-14,  1.00000000e-01,\n",
       "         2.00000000e-01,  3.00000000e-01,  4.00000000e-01,  5.00000000e-01,\n",
       "         6.00000000e-01,  7.00000000e-01,  8.00000000e-01,  9.00000000e-01,\n",
       "         1.00000000e+00,  1.10000000e+00,  1.20000000e+00,  1.30000000e+00,\n",
       "         1.40000000e+00,  1.50000000e+00,  1.60000000e+00,  1.70000000e+00,\n",
       "         1.80000000e+00,  1.90000000e+00,  2.00000000e+00,  2.10000000e+00,\n",
       "         2.20000000e+00,  2.30000000e+00,  2.40000000e+00,  2.50000000e+00,\n",
       "         2.60000000e+00,  2.70000000e+00,  2.80000000e+00,  2.90000000e+00,\n",
       "         3.00000000e+00,  3.10000000e+00,  3.20000000e+00,  3.30000000e+00,\n",
       "         3.40000000e+00,  3.50000000e+00,  3.60000000e+00,  3.70000000e+00,\n",
       "         3.80000000e+00,  3.90000000e+00,  4.00000000e+00,  4.10000000e+00,\n",
       "         4.20000000e+00,  4.30000000e+00,  4.40000000e+00,  4.50000000e+00,\n",
       "         4.60000000e+00,  4.70000000e+00,  4.80000000e+00,  4.90000000e+00]),\n",
       " <BarContainer object of 99 artists>)"
      ]
     },
     "execution_count": 6,
     "metadata": {},
     "output_type": "execute_result"
    },
    {
     "data": {
      "image/png": "[encoded data removed]",
      "text/plain": [
       "<Figure size 640x480 with 1 Axes>"
      ]
     },
     "metadata": {},
     "output_type": "display_data"
    }
   ],
   "source": [
    "plt.hist(np.random.randn(1000), bins = np.arange(-5,5,0.1))"
   ]
  },
  {
   "cell_type": "code",
   "execution_count": null,
   "id": "1bfa98c9-738b-4ebd-bbe2-b87b1cb2dfb4",
   "metadata": {},
   "outputs": [],
   "source": []
  }
 ],
 "metadata": {
  "kernelspec": {
   "display_name": "Python 3 (ipykernel)",
   "language": "python",
   "name": "python3"
  },
  "language_info": {
   "codemirror_mode": {
    "name": "ipython",
    "version": 3
   },
   "file_extension": ".py",
   "mimetype": "text/x-python",
   "name": "python",
   "nbconvert_exporter": "python",
   "pygments_lexer": "ipython3",
   "version": "3.12.0"
  }
 },
 "nbformat": 4,
 "nbformat_minor": 5
}
