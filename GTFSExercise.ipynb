{
 "cells": [
  {
   "cell_type": "code",
   "execution_count": null,
   "id": "9405f6c1-00dd-46e3-9bfa-eb71063ba09b",
   "metadata": {},
   "outputs": [],
   "source": [
    "import pandas as pd\n",
    "import os\n",
    "import datetime\n",
    "import matplotlib.pyplot as plt\n",
    "import networkx as nx"
   ]
  },
  {
   "cell_type": "code",
   "execution_count": null,
   "id": "38562560-c435-4fe5-ae90-6c572f3ac44d",
   "metadata": {},
   "outputs": [],
   "source": [
    "def convert_time(arrival_time_str, format='%H:%M:%S'):\n",
    "    arrival_time_str_split = arrival_time_str.split(\":\")\n",
    "    isArrNextDay = int(arrival_time_str_split[0]) >= 24\n",
    "    if isArrNextDay:\n",
    "        arrival_time_str = str(int(arrival_time_str_split[0]) % 24)\n",
    "        for s in [\":\" + a for  a in arrival_time_str_split[1:]]:\n",
    "            arrival_time_str += s\n",
    "\n",
    "    arrival_time = datetime.datetime.strptime(arrival_time_str, format)\n",
    "\n",
    "    if isArrNextDay:\n",
    "        arrival_time = datetime.datetime(year=1900, month=1, day=arrival_time.day + 1, hour=arrival_time.hour, minute=arrival_time.minute, second=arrival_time.second)\n",
    "\n",
    "    return arrival_time"
   ]
  },
  {
   "cell_type": "code",
   "execution_count": null,
   "id": "ceb1e2a4-ec8a-4d6a-a475-9e8a7171b46e",
   "metadata": {},
   "outputs": [],
   "source": [
    "RAWDATAPATH = r\"C:\\Users\\Martin Tosstorff\\Downloads\\google_transit(1)\"\n",
    "UBAHNROUTEID = 402"
   ]
  },
  {
   "cell_type": "code",
   "execution_count": null,
   "id": "7e7784a3-8ada-4cfe-b23f-4d33792258be",
   "metadata": {},
   "outputs": [],
   "source": [
    "routes_df = pd.read_csv(os.path.join(RAWDATAPATH, 'routes.txt'))\n",
    "trips_df = pd.read_csv(os.path.join(RAWDATAPATH, 'trips.txt'))\n",
    "stops_df = pd.read_csv(os.path.join(RAWDATAPATH, 'stops.txt'))\n",
    "stop_times_df = pd.read_csv(os.path.join(RAWDATAPATH, 'stop_times.txt'))\n",
    "calendar_df = pd.read_csv(os.path.join(RAWDATAPATH, 'calendar.txt'))\n",
    "\n",
    "service = calendar_df[calendar_df['monday'] == 1][\"service_id\"].unique()\n",
    "trips_df = trips_df[trips_df[\"service_id\"].isin(service)]"
   ]
  },
  {
   "cell_type": "code",
   "execution_count": null,
   "id": "5a68d712-64e9-4d8f-aa85-75dedbbcb8f2",
   "metadata": {},
   "outputs": [],
   "source": [
    "mask = routes_df.route_type == UBAHNROUTEID\n",
    "route_ids = routes_df[mask].route_id"
   ]
  },
  {
   "cell_type": "code",
   "execution_count": null,
   "id": "8e09e61e-bcca-495b-841c-9ace04b3ae4e",
   "metadata": {},
   "outputs": [],
   "source": [
    "trips_df = trips_df[trips_df.route_id.isin(route_ids)]\n",
    "trip_ids = trips_df.trip_id"
   ]
  },
  {
   "cell_type": "code",
   "execution_count": null,
   "id": "9fe438a7-a367-4750-be7a-764c15eba6f9",
   "metadata": {},
   "outputs": [],
   "source": [
    "stop_times_df = stop_times_df[stop_times_df.trip_id.isin(trip_ids)]\n",
    "stop_ids = stop_times_df.stop_id"
   ]
  },
  {
   "cell_type": "code",
   "execution_count": null,
   "id": "a5d1a42e-c680-406c-bad1-7192e06dfb68",
   "metadata": {},
   "outputs": [],
   "source": [
    "stops_df = stops_df[stops_df.stop_id.isin(stop_ids)]"
   ]
  },
  {
   "cell_type": "code",
   "execution_count": null,
   "id": "385371f0-9a8a-4732-a2d0-aedd5dab2da6",
   "metadata": {},
   "outputs": [],
   "source": [
    "merged_data = pd.merge(stop_times_df, stops_df, left_on=\"stop_id\", right_on=\"stop_id\")\n",
    "merged_data = pd.merge(merged_data, trips_df, left_on=\"trip_id\", right_on=\"trip_id\")\n",
    "merged_data = pd.merge(merged_data, routes_df, left_on=\"route_id\", right_on=\"route_id\")\n",
    "merged_data.arrival_time = merged_data.arrival_time.transform(convert_time)\n",
    "merged_data.departure_time = merged_data.departure_time.transform(convert_time)"
   ]
  },
  {
   "cell_type": "code",
   "execution_count": null,
   "id": "09ab3de8-1e80-4e04-810a-96f861944b29",
   "metadata": {},
   "outputs": [],
   "source": [
    "start = datetime.datetime(year=1900, month=1, day=1, hour=13, minute=0, second=0)\n",
    "end = datetime.datetime(year=1900, month=1, day=1, hour=14, minute=30, second=0)"
   ]
  },
  {
   "cell_type": "code",
   "execution_count": null,
   "id": "68165a63-964a-402f-a23b-23548ded9ca1",
   "metadata": {},
   "outputs": [],
   "source": [
    "merged_data.route_color = merged_data.route_color.transform(lambda c : '#' + c)"
   ]
  },
  {
   "cell_type": "code",
   "execution_count": null,
   "id": "5b25c4b2-e612-4f86-a289-4f7389b5a58f",
   "metadata": {},
   "outputs": [],
   "source": [
    "merged_data = merged_data[(merged_data.departure_time > start) & (merged_data.arrival_time < end)] "
   ]
  },
  {
   "cell_type": "markdown",
   "id": "1abece9f-9aa3-48fa-9997-3fee43cf561f",
   "metadata": {},
   "source": [
    "# Exercise 2:"
   ]
  },
  {
   "cell_type": "code",
   "execution_count": null,
   "id": "4ac0b349-e481-420c-aca7-275b65e8a1a8",
   "metadata": {},
   "outputs": [],
   "source": [
    "def draw_locations(names, lons, lats, colors, graph=None):\n",
    "    if type(names) == pd.core.series.Series:\n",
    "        names = names.tolist()\n",
    "    if type(lons) == pd.core.series.Series:\n",
    "        lons = lons.tolist()\n",
    "    if type(lats) == pd.core.series.Series:\n",
    "        lats = lats.tolist()\n",
    "    if type(colors) == pd.core.series.Series:\n",
    "        colors = colors.tolist()\n",
    "        \n",
    "    if graph is None:\n",
    "        graph = nx.Graph()\n",
    "        for n in names:\n",
    "            graph.add_node(n)\n",
    "        \n",
    "    pos = {}\n",
    "    label_pos={}\n",
    "    color_dic = {}\n",
    "    fig, ax = plt.subplots(figsize=(12,12))\n",
    "    \n",
    "    for n in graph.nodes:\n",
    "        pos[n] = (lons[names.index(n)], lats[names.index(n)])\n",
    "        label_pos[n] = (lons[names.index(n)], lats[names.index(n)] + 0.002)\n",
    "        color_dic[n] = colors[names.index(n)]\n",
    "        \n",
    "    \n",
    "    #nx.draw(graph, pos, color=color_dic)\n",
    "    nx.draw_networkx_nodes(graph, pos, node_color=list(color_dic.values()), node_size=50)\n",
    "    nx.draw_networkx_labels(graph, label_pos, font_size=10)\n",
    "    nx.draw_networkx_edges(graph, pos)\n",
    "    "
   ]
  },
  {
   "cell_type": "markdown",
   "id": "6f9b9b81-85fd-4c75-9666-d9eb8f3e50ea",
   "metadata": {},
   "source": [
    "### Example for drawing loacations:"
   ]
  },
  {
   "cell_type": "code",
   "execution_count": null,
   "id": "8a8eb929-5ad9-4b6c-aabd-7f9ef581d70c",
   "metadata": {},
   "outputs": [],
   "source": [
    "#example how to draw locations\n",
    "draw_locations(['Munich', 'Berlin'], [11.576124, 13.404954], [48.137154, 52.520008], ['red', 'blue'])"
   ]
  },
  {
   "cell_type": "code",
   "execution_count": null,
   "id": "8fd87b13-e95b-4687-8c53-48020539f8d1",
   "metadata": {},
   "outputs": [],
   "source": [
    "###your solution here:"
   ]
  },
  {
   "cell_type": "markdown",
   "id": "99bf8dcd-e31c-4849-9899-fb3f80a76ba2",
   "metadata": {},
   "source": [
    "# Exercise 2:"
   ]
  },
  {
   "cell_type": "markdown",
   "id": "cbabf9c3-268d-47f8-b6f6-53f85f53280a",
   "metadata": {},
   "source": [
    "### Example how to create a graph"
   ]
  },
  {
   "cell_type": "code",
   "execution_count": null,
   "id": "bee0fe05-2400-47d0-8064-b28a07a79143",
   "metadata": {},
   "outputs": [],
   "source": [
    "hochbruck = 'Garching-Hochbrück'\n",
    "garching = 'Garching'\n",
    "#Create graph\n",
    "graph = nx.Graph()\n",
    "#Add node for station 'Garching-Hochbrück'\n",
    "graph.add_node(hochbruck)\n",
    "#Add edge between stations 'Garching' and 'Garching-Hochbrück'\n",
    "graph.add_edge(garching, hochbruck)"
   ]
  },
  {
   "cell_type": "code",
   "execution_count": null,
   "id": "fbfcfd59-5e7c-465c-96bb-f5b7f7c9c47c",
   "metadata": {},
   "outputs": [],
   "source": [
    "graph = nx.Graph()\n",
    "###your solution here:"
   ]
  },
  {
   "cell_type": "code",
   "execution_count": null,
   "id": "79b0c139-4d51-4f46-9e8b-1c1e13647fd6",
   "metadata": {},
   "outputs": [],
   "source": [
    "draw_locations(merged_data.stop_name, merged_data.stop_lon, merged_data.stop_lat, merged_data.route_color, graph)    "
   ]
  },
  {
   "cell_type": "markdown",
   "id": "f065b61d-2782-4756-8d5d-81a5f78936be",
   "metadata": {},
   "source": [
    "# Exercise 4:"
   ]
  },
  {
   "cell_type": "code",
   "execution_count": null,
   "id": "6dd7dc8b-7b0c-4a3e-a3ba-8f394e16977f",
   "metadata": {},
   "outputs": [],
   "source": [
    "U6_route_id = '1-U6-G-014-1'\n",
    "u6_df = merged_data[merged_data.route_id == U6_route_id]"
   ]
  },
  {
   "cell_type": "code",
   "execution_count": null,
   "id": "c4c5a284-4cdc-4118-be39-3abd2d63ec59",
   "metadata": {},
   "outputs": [],
   "source": [
    "line_graph = nx.Graph()\n",
    "### your solution here:"
   ]
  },
  {
   "cell_type": "code",
   "execution_count": null,
   "id": "c42ccbe3-508a-4a1c-b55e-c77d6830131b",
   "metadata": {},
   "outputs": [],
   "source": [
    "def draw_line_graph(line_graph, merge_data, route_id):\n",
    "    line_df = merged_data[merged_data.route_id == route_id]\n",
    "    trip_groups = list(line_df.groupby(['trip_id']))\n",
    "    representative_trip_id, representative_rows  = sorted(trip_groups, key = lambda kg : len(kg[1]))[-1]\n",
    "    stop_name_sequence = representative_rows.sort_values('arrival_time')['stop_name'].tolist()\n",
    "    pos = {}\n",
    "    for n in line_graph.nodes:\n",
    "        row = line_df[(line_df.trip_id == n[0]) & (line_df.stop_name == n[1])].iloc[0]\n",
    "        pos[n] = (stop_name_sequence.index(n[1]), (row['arrival_time'] - start).seconds if n[2] == 'a' else (row['departure_time'] - start).seconds)\n",
    "\n",
    "    fig, ax = plt.subplots()\n",
    "    nx.draw(line_graph, pos, node_size=1)\n",
    "    ax = plt.gca()  # Get current axis\n",
    "    ax.set_axis_on()  # Turn the axis back on\n",
    "    ax.tick_params(left=True, bottom=True, labelleft=True, labelbottom=True)  # Ensure ticks are displayed\n",
    "    ax.set_ylabel('Time [s]')\n",
    "    plt.xticks(list(range(len(stop_name_sequence))), stop_name_sequence, rotation=90)\n",
    "    plt.show()\n",
    "        "
   ]
  },
  {
   "cell_type": "code",
   "execution_count": null,
   "id": "de3b9562-a024-41fb-b3de-753a2ddf097f",
   "metadata": {},
   "outputs": [],
   "source": [
    "draw_line_graph(line_graph, merged_data, U6_route_id)"
   ]
  },
  {
   "cell_type": "code",
   "execution_count": null,
   "id": "f42b7ece-e42c-4b7d-a005-e89fde14783d",
   "metadata": {},
   "outputs": [],
   "source": []
  }
 ],
 "metadata": {
  "kernelspec": {
   "display_name": "Python 3 (ipykernel)",
   "language": "python",
   "name": "python3"
  },
  "language_info": {
   "codemirror_mode": {
    "name": "ipython",
    "version": 3
   },
   "file_extension": ".py",
   "mimetype": "text/x-python",
   "name": "python",
   "nbconvert_exporter": "python",
   "pygments_lexer": "ipython3",
   "version": "3.12.0"
  }
 },
 "nbformat": 4,
 "nbformat_minor": 5
}
